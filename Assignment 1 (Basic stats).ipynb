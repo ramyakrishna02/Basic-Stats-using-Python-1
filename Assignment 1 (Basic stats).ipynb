{
 "cells": [
  {
   "cell_type": "markdown",
   "id": "132ad3fb",
   "metadata": {},
   "source": [
    "## Q7\n",
    "\n",
    "    Calculate Mean, Median, Mode, Variance, Standard Deviation, Range & comment about the values / draw inferences, for the given dataset\n",
    "    \n",
    "    For Points, Score, Weigh>\n",
    "    Find Mean, Median, Mode, Variance, Standard Deviation, and Range and also Comment about the values/ Draw some inferences.\n",
    "\n",
    "Use Q7.csv file "
   ]
  },
  {
   "cell_type": "code",
   "execution_count": 1,
   "id": "bc1ca755",
   "metadata": {
    "ExecuteTime": {
     "end_time": "2023-03-26T14:48:21.743123Z",
     "start_time": "2023-03-26T14:48:19.482623Z"
    }
   },
   "outputs": [
    {
     "name": "stdout",
     "output_type": "stream",
     "text": [
      "          Points      Score      Weigh\n",
      "count  32.000000  32.000000  32.000000\n",
      "mean    3.596563   3.217250  17.848750\n",
      "std     0.534679   0.978457   1.786943\n",
      "min     2.760000   1.513000  14.500000\n",
      "25%     3.080000   2.581250  16.892500\n",
      "50%     3.695000   3.325000  17.710000\n",
      "75%     3.920000   3.610000  18.900000\n",
      "max     4.930000   5.424000  22.900000\n",
      "\n",
      "\n",
      "Points:\n",
      "\n",
      "Mean -  3.5965625000000006\n",
      "Median -  3.6950000000000003\n",
      "Mode -\n",
      " 0    3.07\n",
      "1    3.92\n",
      "Name: Points, dtype: float64\n",
      "Variance -  0.28588135080645166\n",
      "Standard Deviation -  0.5346787360709716\n",
      "Range -  ( 2.76 , 4.93 )\n",
      "\n",
      "\n",
      "Score:\n",
      "\n",
      "Mean -  3.2172499999999995\n",
      "Median -  3.325\n",
      "Mode -\n",
      " 0    3.44\n",
      "Name: Score, dtype: float64\n",
      "Variance -  0.9573789677419356\n",
      "Standard Deviation -  0.9784574429896967\n",
      "Range -  ( 1.513 , 5.424 )\n",
      "\n",
      "\n",
      "Weigh:\n",
      "\n",
      "Mean -  17.848750000000003\n",
      "Median -  17.71\n",
      "Mode -\n",
      " 0    17.02\n",
      "1    18.90\n",
      "Name: Weigh, dtype: float64\n",
      "Variance -  3.193166129032258\n",
      "Standard Deviation -  1.7869432360968431\n",
      "Range -  ( 14.5 , 22.9 )\n"
     ]
    }
   ],
   "source": [
    "import pandas as pd\n",
    "q7 = pd.read_csv(\"Q7.csv\")\n",
    "#q7.head()\n",
    "print(q7.describe())\n",
    "print(\"\\n\\nPoints:\\n\")\n",
    "print(\"Mean - \",q7['Points'].mean())\n",
    "print(\"Median - \",q7['Points'].median())\n",
    "print(\"Mode -\\n\",q7['Points'].mode())\n",
    "print(\"Variance - \",q7['Points'].var())\n",
    "print(\"Standard Deviation - \",q7['Points'].std())\n",
    "print(\"Range - \",\"(\",q7['Points'].min(),\",\",q7['Points'].max(),\")\")\n",
    "\n",
    "print(\"\\n\\nScore:\\n\")\n",
    "print(\"Mean - \",q7['Score'].mean())\n",
    "print(\"Median - \",q7['Score'].median())\n",
    "print(\"Mode -\\n\",q7['Score'].mode())\n",
    "print(\"Variance - \",q7['Score'].var())\n",
    "print(\"Standard Deviation - \",q7['Score'].std())\n",
    "print(\"Range - \",\"(\",q7['Score'].min(),\",\",q7['Score'].max(),\")\")\n",
    "\n",
    "print(\"\\n\\nWeigh:\\n\")\n",
    "print(\"Mean - \",q7['Weigh'].mean())\n",
    "print(\"Median - \",q7['Weigh'].median())\n",
    "print(\"Mode -\\n\",q7['Weigh'].mode())\n",
    "print(\"Variance - \",q7['Weigh'].var())\n",
    "print(\"Standard Deviation - \",q7['Weigh'].std())\n",
    "print(\"Range - \",\"(\",q7['Weigh'].min(),\",\",q7['Weigh'].max(),\")\")"
   ]
  },
  {
   "cell_type": "markdown",
   "id": "f79717d2",
   "metadata": {},
   "source": [
    "## Q9\n",
    "\n",
    "    Calculate Skewness, Kurtosis & draw inferences on the following data\n",
    "- Cars’ speed and distance \n",
    "  ----> Use Q9_a.csv\n",
    "    \n",
    "- SP and Weight (WT)\n",
    "  ----> Use Q9_b.csv\n",
    "\n",
    "### a)"
   ]
  },
  {
   "cell_type": "code",
   "execution_count": 2,
   "id": "c1af0c3b",
   "metadata": {
    "ExecuteTime": {
     "end_time": "2023-03-26T14:48:22.829762Z",
     "start_time": "2023-03-26T14:48:21.753097Z"
    }
   },
   "outputs": [
    {
     "name": "stdout",
     "output_type": "stream",
     "text": [
      "Skewness\n",
      " speed   -0.117510\n",
      "dist     0.806895\n",
      "dtype: float64\n",
      "\n",
      "Kurtosis\n",
      " speed   -0.508994\n",
      "dist     0.405053\n",
      "dtype: float64\n",
      "\n",
      "Mean\n",
      " speed    15.40\n",
      "dist     42.98\n",
      "dtype: float64\n",
      "\n",
      "Median\n",
      " speed    15.0\n",
      "dist     36.0\n",
      "dtype: float64\n"
     ]
    }
   ],
   "source": [
    "import pandas as pd\n",
    "a = pd.read_csv(\"Q9_a.csv\")\n",
    "#a.head()\n",
    "print(\"Skewness\\n\",a[['speed','dist']].skew())\n",
    "print(\"\\nKurtosis\\n\",a[['speed','dist']].kurt())\n",
    "print(\"\\nMean\\n\",a[['speed','dist']].mean())\n",
    "print(\"\\nMedian\\n\",a[['speed','dist']].median())"
   ]
  },
  {
   "cell_type": "markdown",
   "id": "7e57ca1e",
   "metadata": {},
   "source": [
    "### b)"
   ]
  },
  {
   "cell_type": "code",
   "execution_count": 3,
   "id": "d524633d",
   "metadata": {
    "ExecuteTime": {
     "end_time": "2023-03-26T14:48:23.826340Z",
     "start_time": "2023-03-26T14:48:22.835749Z"
    }
   },
   "outputs": [
    {
     "name": "stdout",
     "output_type": "stream",
     "text": [
      "Skewness\n",
      " SP    1.611450\n",
      "WT   -0.614753\n",
      "dtype: float64\n",
      "\n",
      "Kurtosis\n",
      " SP    2.977329\n",
      "WT    0.950291\n",
      "dtype: float64\n",
      "\n",
      "Mean\n",
      " SP    121.540272\n",
      "WT     32.412577\n",
      "dtype: float64\n",
      "\n",
      "Median\n",
      " SP    118.208698\n",
      "WT     32.734518\n",
      "dtype: float64\n"
     ]
    }
   ],
   "source": [
    "b = pd.read_csv(\"Q9_b.csv\")\n",
    "#print(b.head())\n",
    "print(\"Skewness\\n\",b[['SP','WT']].skew())\n",
    "print(\"\\nKurtosis\\n\",b[['SP','WT']].kurt())\n",
    "print(\"\\nMean\\n\",b[['SP','WT']].mean())\n",
    "print(\"\\nMedian\\n\",b[['SP','WT']].median())"
   ]
  },
  {
   "cell_type": "markdown",
   "id": "d519e03b",
   "metadata": {},
   "source": [
    "## Q11\n",
    "\n",
    "    Suppose we want to estimate the average weight of an adult male in Mexico. We draw a random sample of 2,000 men from a population of 3,000,000 men and weigh them. We find that the average person in our sample weighs 200 pounds, and the standard deviation of the sample is 30 pounds. Calculate 94%,98%,96% confidence interval?"
   ]
  },
  {
   "cell_type": "code",
   "execution_count": 4,
   "id": "4b60a828",
   "metadata": {
    "ExecuteTime": {
     "end_time": "2023-03-26T14:48:25.084665Z",
     "start_time": "2023-03-26T14:48:23.828330Z"
    }
   },
   "outputs": [
    {
     "name": "stdout",
     "output_type": "stream",
     "text": [
      "Intervals at 94%\n",
      " (143.57619175546247, 256.42380824453755)\n",
      "\n",
      "Intervals at 98%\n",
      " (130.2095637787748, 269.7904362212252)\n",
      "\n",
      "Intervals at 96%\n",
      " (138.38753268104531, 261.61246731895466)\n"
     ]
    }
   ],
   "source": [
    "from scipy import stats\n",
    "print(\"Intervals at 94%\\n\",stats.norm.interval(0.94,loc=200,scale=30))\n",
    "print(\"\\nIntervals at 98%\\n\",stats.norm.interval(0.98,loc=200,scale=30))\n",
    "print(\"\\nIntervals at 96%\\n\",stats.norm.interval(0.96,loc=200,scale=30))"
   ]
  },
  {
   "cell_type": "markdown",
   "id": "d1c4ee69",
   "metadata": {},
   "source": [
    "## Q12\n",
    "\n",
    "    Below are the scores obtained by a student in tests \n",
    "    34,36,36,38,38,39,39,40,40,41,41,41,41,42,42,45,49,56\n",
    "    Find mean, median, variance, standard deviation."
   ]
  },
  {
   "cell_type": "code",
   "execution_count": 5,
   "id": "caf21c78",
   "metadata": {
    "ExecuteTime": {
     "end_time": "2023-03-26T14:48:25.100587Z",
     "start_time": "2023-03-26T14:48:25.090608Z"
    }
   },
   "outputs": [
    {
     "name": "stdout",
     "output_type": "stream",
     "text": [
      "\n",
      "Mean\n",
      " 41.0\n",
      "\n",
      "Median\n",
      " 40.5\n",
      "\n",
      "Variance\n",
      " 24.11111111111111\n",
      "\n",
      "Standard Deviation\n",
      " 4.910306620885412\n"
     ]
    }
   ],
   "source": [
    "import numpy as np\n",
    "arr = np.array([34,36,36,38,38,39,39,40,40,41,41,41,41,42,42,45,49,56])\n",
    "print('\\nMean\\n',np.mean(arr))\n",
    "print('\\nMedian\\n',np.median(arr))\n",
    "print('\\nVariance\\n',np.var(arr))\n",
    "print('\\nStandard Deviation\\n',np.std(arr))"
   ]
  },
  {
   "cell_type": "markdown",
   "id": "ee22204a",
   "metadata": {},
   "source": [
    "## Q20\n",
    "\n",
    "    Calculate probability from the given dataset for the below cases\n",
    "    Data _set: Cars.csv\n",
    "    Calculate the probability of MPG of Cars for the below cases.\n",
    "       MPG <- Cars$MPG\n",
    "    a.\tP(MPG>38)\n",
    "    b.\tP(MPG<40)\n",
    "    c.\tP (20<MPG<50)"
   ]
  },
  {
   "cell_type": "code",
   "execution_count": 6,
   "id": "3f34e400",
   "metadata": {
    "ExecuteTime": {
     "end_time": "2023-03-26T14:48:25.720292Z",
     "start_time": "2023-03-26T14:48:25.104582Z"
    }
   },
   "outputs": [
    {
     "data": {
      "text/html": [
       "<div>\n",
       "<style scoped>\n",
       "    .dataframe tbody tr th:only-of-type {\n",
       "        vertical-align: middle;\n",
       "    }\n",
       "\n",
       "    .dataframe tbody tr th {\n",
       "        vertical-align: top;\n",
       "    }\n",
       "\n",
       "    .dataframe thead th {\n",
       "        text-align: right;\n",
       "    }\n",
       "</style>\n",
       "<table border=\"1\" class=\"dataframe\">\n",
       "  <thead>\n",
       "    <tr style=\"text-align: right;\">\n",
       "      <th></th>\n",
       "      <th>HP</th>\n",
       "      <th>MPG</th>\n",
       "      <th>VOL</th>\n",
       "      <th>SP</th>\n",
       "      <th>WT</th>\n",
       "    </tr>\n",
       "  </thead>\n",
       "  <tbody>\n",
       "    <tr>\n",
       "      <th>0</th>\n",
       "      <td>49</td>\n",
       "      <td>53.700681</td>\n",
       "      <td>89</td>\n",
       "      <td>104.185353</td>\n",
       "      <td>28.762059</td>\n",
       "    </tr>\n",
       "    <tr>\n",
       "      <th>1</th>\n",
       "      <td>55</td>\n",
       "      <td>50.013401</td>\n",
       "      <td>92</td>\n",
       "      <td>105.461264</td>\n",
       "      <td>30.466833</td>\n",
       "    </tr>\n",
       "    <tr>\n",
       "      <th>2</th>\n",
       "      <td>55</td>\n",
       "      <td>50.013401</td>\n",
       "      <td>92</td>\n",
       "      <td>105.461264</td>\n",
       "      <td>30.193597</td>\n",
       "    </tr>\n",
       "    <tr>\n",
       "      <th>3</th>\n",
       "      <td>70</td>\n",
       "      <td>45.696322</td>\n",
       "      <td>92</td>\n",
       "      <td>113.461264</td>\n",
       "      <td>30.632114</td>\n",
       "    </tr>\n",
       "    <tr>\n",
       "      <th>4</th>\n",
       "      <td>53</td>\n",
       "      <td>50.504232</td>\n",
       "      <td>92</td>\n",
       "      <td>104.461264</td>\n",
       "      <td>29.889149</td>\n",
       "    </tr>\n",
       "  </tbody>\n",
       "</table>\n",
       "</div>"
      ],
      "text/plain": [
       "   HP        MPG  VOL          SP         WT\n",
       "0  49  53.700681   89  104.185353  28.762059\n",
       "1  55  50.013401   92  105.461264  30.466833\n",
       "2  55  50.013401   92  105.461264  30.193597\n",
       "3  70  45.696322   92  113.461264  30.632114\n",
       "4  53  50.504232   92  104.461264  29.889149"
      ]
     },
     "execution_count": 6,
     "metadata": {},
     "output_type": "execute_result"
    }
   ],
   "source": [
    "import pandas as pd\n",
    "cars = pd.read_csv('Cars.csv')\n",
    "cars.head()"
   ]
  },
  {
   "cell_type": "code",
   "execution_count": 7,
   "id": "4895453d",
   "metadata": {
    "ExecuteTime": {
     "end_time": "2023-03-26T14:48:25.752208Z",
     "start_time": "2023-03-26T14:48:25.724286Z"
    }
   },
   "outputs": [
    {
     "name": "stdout",
     "output_type": "stream",
     "text": [
      "P(MPG>38):\n",
      " 0.3475939251582705\n",
      "\n",
      "P(MPG<40):\n",
      " 0.7293498762151616\n",
      "\n",
      "P(20<MPG<50):\n",
      " 0.8988689169682046\n"
     ]
    }
   ],
   "source": [
    "from scipy import stats\n",
    "# P(MPG>38)\n",
    "print(\"P(MPG>38):\\n\",\n",
    "      1-stats.norm.cdf(38,cars['MPG'].mean(),cars['MPG'].std()))\n",
    "# P(MPG<40)\n",
    "print(\"\\nP(MPG<40):\\n\",\n",
    "      stats.norm.cdf(40,cars['MPG'].mean(),cars['MPG'].std()))\n",
    "# P(20<MPG<50)\n",
    "print(\"\\nP(20<MPG<50):\\n\",\n",
    "      stats.norm.cdf(50,cars['MPG'].mean(),cars['MPG'].std())-stats.norm.cdf(20,cars['MPG'].mean(),cars['MPG'].std()))"
   ]
  },
  {
   "cell_type": "markdown",
   "id": "5d7e1047",
   "metadata": {},
   "source": [
    "## Q21\n",
    "\n",
    "    Check whether the data follows normal distribution\n",
    "    a)\tCheck whether the MPG of Cars follows Normal Distribution \n",
    "        Dataset: Cars.csv\n",
    "\n",
    "    b)\tCheck Whether the Adipose Tissue (AT) and Waist Circumference (Waist) from wc-at data set follows Normal Distribution \n",
    "       Dataset: wc-at.csv\n",
    "\n",
    "### a)"
   ]
  },
  {
   "cell_type": "code",
   "execution_count": 8,
   "id": "b246dfff",
   "metadata": {
    "ExecuteTime": {
     "end_time": "2023-03-26T14:48:27.340806Z",
     "start_time": "2023-03-26T14:48:25.761184Z"
    }
   },
   "outputs": [
    {
     "name": "stdout",
     "output_type": "stream",
     "text": [
      "Mean of MPG:\n",
      " 34.422075728024666\n",
      "\n",
      "Median:\n",
      " 35.15272697\n",
      "\n",
      "Mode:\n",
      " 0    29.629936\n",
      "Name: MPG, dtype: float64\n",
      "\n",
      "Skewness:\n",
      " -0.17794674747025727\n",
      "\n",
      "Kurtosis:\n",
      " -0.6116786559430913\n",
      "\n",
      "\n",
      "The Distribution Plot\n",
      "\n",
      "AxesSubplot(0.125,0.11;0.775x0.77)\n"
     ]
    },
    {
     "data": {
      "image/png": "[encoded data removed]",
      "text/plain": [
       "<Figure size 640x480 with 1 Axes>"
      ]
     },
     "metadata": {},
     "output_type": "display_data"
    }
   ],
   "source": [
    "# to check if MPG is normally distributed\n",
    "print(\"Mean of MPG:\\n\",cars['MPG'].mean())\n",
    "print(\"\\nMedian:\\n\",cars['MPG'].median())\n",
    "print(\"\\nMode:\\n\",cars['MPG'].mode())\n",
    "print(\"\\nSkewness:\\n\",cars['MPG'].skew())\n",
    "print(\"\\nKurtosis:\\n\",cars['MPG'].kurt())\n",
    "\n",
    "import seaborn as sns\n",
    "import warnings\n",
    "warnings.filterwarnings('ignore')\n",
    "print(\"\\n\\nThe Distribution Plot\\n\")\n",
    "print(sns.distplot(cars['MPG']))"
   ]
  },
  {
   "cell_type": "markdown",
   "id": "31628031",
   "metadata": {},
   "source": [
    "Therefore, the data column \"MPG\" is not normally distributed."
   ]
  },
  {
   "cell_type": "markdown",
   "id": "fd0f75d7",
   "metadata": {},
   "source": [
    "### b)"
   ]
  },
  {
   "cell_type": "code",
   "execution_count": 9,
   "id": "5057408e",
   "metadata": {
    "ExecuteTime": {
     "end_time": "2023-03-26T14:48:27.899448Z",
     "start_time": "2023-03-26T14:48:27.342760Z"
    }
   },
   "outputs": [
    {
     "data": {
      "text/html": [
       "<div>\n",
       "<style scoped>\n",
       "    .dataframe tbody tr th:only-of-type {\n",
       "        vertical-align: middle;\n",
       "    }\n",
       "\n",
       "    .dataframe tbody tr th {\n",
       "        vertical-align: top;\n",
       "    }\n",
       "\n",
       "    .dataframe thead th {\n",
       "        text-align: right;\n",
       "    }\n",
       "</style>\n",
       "<table border=\"1\" class=\"dataframe\">\n",
       "  <thead>\n",
       "    <tr style=\"text-align: right;\">\n",
       "      <th></th>\n",
       "      <th>Waist</th>\n",
       "      <th>AT</th>\n",
       "    </tr>\n",
       "  </thead>\n",
       "  <tbody>\n",
       "    <tr>\n",
       "      <th>0</th>\n",
       "      <td>74.75</td>\n",
       "      <td>25.72</td>\n",
       "    </tr>\n",
       "    <tr>\n",
       "      <th>1</th>\n",
       "      <td>72.60</td>\n",
       "      <td>25.89</td>\n",
       "    </tr>\n",
       "    <tr>\n",
       "      <th>2</th>\n",
       "      <td>81.80</td>\n",
       "      <td>42.60</td>\n",
       "    </tr>\n",
       "    <tr>\n",
       "      <th>3</th>\n",
       "      <td>83.95</td>\n",
       "      <td>42.80</td>\n",
       "    </tr>\n",
       "    <tr>\n",
       "      <th>4</th>\n",
       "      <td>74.65</td>\n",
       "      <td>29.84</td>\n",
       "    </tr>\n",
       "  </tbody>\n",
       "</table>\n",
       "</div>"
      ],
      "text/plain": [
       "   Waist     AT\n",
       "0  74.75  25.72\n",
       "1  72.60  25.89\n",
       "2  81.80  42.60\n",
       "3  83.95  42.80\n",
       "4  74.65  29.84"
      ]
     },
     "execution_count": 9,
     "metadata": {},
     "output_type": "execute_result"
    }
   ],
   "source": [
    "data = pd.read_csv(\"wc-at.csv\")\n",
    "data.head()"
   ]
  },
  {
   "cell_type": "code",
   "execution_count": 10,
   "id": "c0e9e254",
   "metadata": {
    "ExecuteTime": {
     "end_time": "2023-03-26T14:48:28.162576Z",
     "start_time": "2023-03-26T14:48:27.903437Z"
    }
   },
   "outputs": [
    {
     "name": "stdout",
     "output_type": "stream",
     "text": [
      "Mean:\n",
      " 193.79587155963304\n",
      "\n",
      "Median:\n",
      " 187.34\n",
      "\n",
      "Mode:\n",
      "    Waist     AT\n",
      "0   94.5  121.0\n",
      "1  106.0  123.0\n",
      "2  108.5    NaN\n",
      "\n",
      "Skewness:\n",
      " 0.7189254066064998\n",
      "\n",
      "Kurtosis:\n",
      " -1.3882422762227329\n",
      "\n",
      "\n",
      "The Distribution Plot\n",
      "\n",
      "AxesSubplot(0.125,0.11;0.775x0.77)\n"
     ]
    },
    {
     "data": {
      "image/png": "[encoded data removed]",
      "text/plain": [
       "<Figure size 640x480 with 1 Axes>"
      ]
     },
     "metadata": {},
     "output_type": "display_data"
    }
   ],
   "source": [
    "print(\"Mean:\\n\",data.mean().sum())\n",
    "print(\"\\nMedian:\\n\",data.median().sum())\n",
    "print(\"\\nMode:\\n\",data.mode())\n",
    "print(\"\\nSkewness:\\n\",data.skew().sum())\n",
    "print(\"\\nKurtosis:\\n\",data.kurt().sum())\n",
    "\n",
    "print(\"\\n\\nThe Distribution Plot\\n\")\n",
    "print(sns.distplot(data))"
   ]
  },
  {
   "cell_type": "markdown",
   "id": "45ccf2e9",
   "metadata": {},
   "source": [
    "Therefore, the dataset doesn't follow normal distribution."
   ]
  },
  {
   "cell_type": "markdown",
   "id": "93190c65",
   "metadata": {},
   "source": [
    "## Q22\n",
    "\n",
    "    Calculate the Z scores of 90% confidence interval,94% confidence interval, 60% confidence interval."
   ]
  },
  {
   "cell_type": "code",
   "execution_count": 11,
   "id": "7597cbf0",
   "metadata": {
    "ExecuteTime": {
     "end_time": "2023-03-26T14:48:28.178531Z",
     "start_time": "2023-03-26T14:48:28.167561Z"
    }
   },
   "outputs": [
    {
     "name": "stdout",
     "output_type": "stream",
     "text": [
      "Z score at 90% CI - 1.6448536269514722\n",
      "Z score at 94% CI - 1.8807936081512509\n",
      "Z score at 60% CI - 0.8416212335729143\n"
     ]
    }
   ],
   "source": [
    "from scipy import stats\n",
    "print(\"Z score at 90% CI -\",stats.norm.ppf(0.95))\n",
    "print(\"Z score at 94% CI -\",stats.norm.ppf(0.97))\n",
    "print(\"Z score at 60% CI -\",stats.norm.ppf(0.80))"
   ]
  },
  {
   "cell_type": "markdown",
   "id": "5e923122",
   "metadata": {},
   "source": [
    "## Q23\n",
    "\n",
    "    Calculate the t scores of 95% confidence interval, 96% confidence interval, 99% confidence interval for sample size of 25."
   ]
  },
  {
   "cell_type": "code",
   "execution_count": 12,
   "id": "5b017d39",
   "metadata": {
    "ExecuteTime": {
     "end_time": "2023-03-26T14:48:28.194491Z",
     "start_time": "2023-03-26T14:48:28.183519Z"
    }
   },
   "outputs": [
    {
     "name": "stdout",
     "output_type": "stream",
     "text": [
      "t-score at 95% CI - 2.0638985616280205\n",
      "t-score at 96% CI - 2.1715446760080677\n",
      "t-score at 99% CI - 2.796939504772804\n"
     ]
    }
   ],
   "source": [
    "from scipy import stats\n",
    "print(\"t-score at 95% CI -\",stats.t.ppf(0.975,24))\n",
    "print(\"t-score at 96% CI -\",stats.t.ppf(0.98,24))\n",
    "print(\"t-score at 99% CI -\",stats.t.ppf(0.995,24))"
   ]
  },
  {
   "cell_type": "markdown",
   "id": "35874cff",
   "metadata": {},
   "source": [
    "## Q24\n",
    "\n",
    "    A Government company claims that an average light bulb lasts 270 days. A researcher randomly selects 18 bulbs for testing. The sampled bulbs last an average of 260 days, with a standard deviation of 90 days. If the CEO's claim were true, what is the probability that 18 randomly selected bulbs would have an average life of no more than 260 days"
   ]
  },
  {
   "cell_type": "code",
   "execution_count": 13,
   "id": "b4afad60",
   "metadata": {
    "ExecuteTime": {
     "end_time": "2023-03-26T14:48:28.209963Z",
     "start_time": "2023-03-26T14:48:28.198482Z"
    }
   },
   "outputs": [
    {
     "name": "stdout",
     "output_type": "stream",
     "text": [
      "t-score value: -0.4714045207910317\n",
      "Probability value: 0.32167253567098353\n"
     ]
    }
   ],
   "source": [
    "from scipy import stats\n",
    "from math import *\n",
    "# to calculate t-score\n",
    "t = (260-270)/(90/sqrt(18))\n",
    "print(\"t-score value:\",t)\n",
    "# to calculate the probability value\n",
    "p = 1 - stats.t.cdf(abs(t),17)\n",
    "print(\"Probability value:\",p)"
   ]
  }
 ],
 "metadata": {
  "kernelspec": {
   "display_name": "Python 3 (ipykernel)",
   "language": "python",
   "name": "python3"
  },
  "language_info": {
   "codemirror_mode": {
    "name": "ipython",
    "version": 3
   },
   "file_extension": ".py",
   "mimetype": "text/x-python",
   "name": "python",
   "nbconvert_exporter": "python",
   "pygments_lexer": "ipython3",
   "version": "3.9.13"
  }
 },
 "nbformat": 4,
 "nbformat_minor": 5
}
